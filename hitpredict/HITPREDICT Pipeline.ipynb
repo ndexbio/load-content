{
 "cells": [
  {
   "cell_type": "markdown",
   "metadata": {},
   "source": [
    "# Hit Predict Pipeline"
   ]
  },
  {
   "cell_type": "markdown",
   "metadata": {},
   "source": [
    "This notebook creates a network using the latest Hit Predict data downloaded. "
   ]
  },
  {
   "cell_type": "markdown",
   "metadata": {},
   "source": [
    "## Imports Python Packages Needed in the Pipeline"
   ]
  },
  {
   "cell_type": "code",
   "execution_count": 1,
   "metadata": {},
   "outputs": [],
   "source": [
    "import ndex2.client as nc\n",
    "import json\n",
    "import pandas as pd\n",
    "import sys\n",
    "import jsonschema\n",
    "import ndexutil.tsv.tsv2nicecx as t2n\n",
    "from tutorial_utils import load_tutorial_config"
   ]
  },
  {
   "cell_type": "markdown",
   "metadata": {},
   "source": [
    "### Set variables\n",
    "Note: The load_tutorial_config() function uses a file in the user's home directory (**~/ndex_tutorial_config.json**).  A sample json file is included in the root of this project (also named \"ndex_tutorial_config.json\").  Edit this file and copy it to your user home directory.  Alternatively you can just use the hardcoded variables below."
   ]
  },
  {
   "cell_type": "code",
   "execution_count": 2,
   "metadata": {},
   "outputs": [
    {
     "name": "stdout",
     "output_type": "stream",
     "text": [
      "{'server': 'http://dev.ndexbio.org', 'username': 'scratch', 'password': 'scratch'}\n",
      "{'server': 'http://dev.ndexbio.org', 'username': 'scratch', 'password': 'scratch'}\n",
      "('http://dev.ndexbio.org', 'scratch', 'scratch')\n"
     ]
    }
   ],
   "source": [
    "my_server, my_username, my_password = load_tutorial_config(\"main\")\n",
    "# alternatively, edit and uncomment these lines to set the connection parameters manually\n",
    "# my_server = \"public.ndexbio.org\"\n",
    "# my_username = None\n",
    "# my_password = None\n",
    "\n",
    "if 'dev.ndexbio.org' in my_server:\n",
    "    cytoscape_visual_properties_template_id = 'c7075eb1-231e-11e8-894b-525400c25d22' # DEV\n",
    "else:\n",
    "    cytoscape_visual_properties_template_id = 'ece36fa0-1e5d-11e8-b939-0ac135e8bacf' # PUBLIC\n",
    "\n",
    "my_ndex=nc.Ndex2(my_server, my_username, my_password)\n",
    "print(load_tutorial_config(\"main\"))"
   ]
  },
  {
   "cell_type": "markdown",
   "metadata": {},
   "source": [
    "### Set load plan\n",
    "Note: To see the field mapping (load plan) open **hitpredict_load_plan.json**. This json file resides in the same directory as this notebook"
   ]
  },
  {
   "cell_type": "code",
   "execution_count": 3,
   "metadata": {
    "collapsed": true
   },
   "outputs": [],
   "source": [
    "path_to_load_plan = 'hitpredict_load_plan.json'\n",
    "load_plan = None\n",
    "with open(path_to_load_plan, 'r') as lp:\n",
    "    load_plan = json.load(lp)"
   ]
  },
  {
   "cell_type": "markdown",
   "metadata": {},
   "source": [
    "### Process Hit Predict network"
   ]
  },
  {
   "cell_type": "code",
   "execution_count": 4,
   "metadata": {},
   "outputs": [
    {
     "name": "stdout",
     "output_type": "stream",
     "text": [
      "starting...\n",
      "finished...\n"
     ]
    }
   ],
   "source": [
    "def process_hitpredict_network(load_plan):\n",
    "    # TODO - add context (normalize?)\n",
    "    # @CONTEXT is set from the load plan\n",
    "\n",
    "    with open('HitPredit_in_KEGG.txt', 'r') as tsvfile:\n",
    "        header = [h.strip() for h in tsvfile.readline().split('\\t')]\n",
    "\n",
    "        df = pd.read_csv(tsvfile, delimiter='\\t', na_filter=False, engine='python', names=header)\n",
    "\n",
    "    # upcase column names\n",
    "    rename = {}\n",
    "    for column_name in df.columns:\n",
    "        rename[column_name] = column_name.upper()\n",
    "\n",
    "    df = df.rename(columns=rename)\n",
    "\n",
    "    # IF THE NAME FIELD IS EMPTY - SUBSTITUTE UNIPROT FIELD\n",
    "    df['NAME1'].replace('', df['UNIPROT1'], inplace=True)\n",
    "    df['NAME2'].replace('', df['UNIPROT2'], inplace=True)\n",
    "\n",
    "    # ADD COLUMN TO DATAFRAME TO BE USED AS DEFAULT INTERACTION\n",
    "    df.loc[:, 'DEFAULT INTERACTION'] = pd.Series('interacts with', index=df.index)\n",
    "\n",
    "    network = t2n.convert_pandas_to_nice_cx_with_load_plan(df, load_plan)\n",
    "\n",
    "    for node_id, node in network.nodes.items():\n",
    "        # IF NODE NAME HAS DELIMITER (;) THEN SPLIT AND TAKE FIRST ELEMENT\n",
    "        if ';' in node.get_name():\n",
    "            node_name_temp = node.get_name().split(';')\n",
    "            node.set_node_name(node_name_temp[0])\n",
    "\n",
    "        # STRIP OFF EXTRA DATA IN THE ALIAS ATTRIBUTE\n",
    "        values = network.get_node_attribute(node, 'alias2')\n",
    "        if not isinstance(values, list):\n",
    "            values = [values]\n",
    "\n",
    "        replacement_values = []\n",
    "        for val in values:\n",
    "            if val is None:\n",
    "                break\n",
    "            sub_values = val.split('[')\n",
    "            replacement_values.append(sub_values[0])\n",
    "\n",
    "        if len(replacement_values) < 1:\n",
    "            network.remove_node_attribute(node, 'alias2')\n",
    "        else:\n",
    "            network_att = network.get_node_attribute_objects(node_id, 'alias2')\n",
    "            network_att.set_values(replacement_values)\n",
    "\n",
    "    network.set_network_attribute(\"organism\", \"Human, 9606, Homo sapiens\")\n",
    "    network.union_node_attributes('alias', 'alias2', 'alias')\n",
    "    network.set_name('HitPredict - Human')\n",
    "        \n",
    "    description = '<a href=\"http://hintdb.hgc.jp/htp/\" target=\"_blank\">HitPredict</a> is a resource of experimentally determined protein-protein interactions with reliability scores. Protein-protein interactions from IntAct, BioGRID, HPRD, MINT and DIP are combined, annotated and scored. The reliability score is calculated based on the experimental details of each interaction and the sequence, structure and functional annotations of the interacting proteins. This network contains all human interactions that map to known Kegg pathways; edge colors from light blue to dark blue are mapped to the \"Total score\" value.'\n",
    "    network.set_network_attribute('description', description)\n",
    "\n",
    "    network.set_network_attribute('version', 'v.4 (JUL-2017)')\n",
    "\n",
    "    references = 'Yosvany Lopez, Kenta Nakai and Ashwini Patil. <b>HitPredict version 4 - comprehensive reliability scoring of ' \\\n",
    "                 'physical protein-protein interactions from more than 100 species.</b><br />' \\\n",
    "                 'Database (Oxford) 2015; 2015: bav117.<br />' \\\n",
    "                 '<a href=\"https://dx.doi.org/10.1093%2Fdatabase%2Fbav117\" target=\"_blank\">doi:10.1093/database/bav117</a>'\n",
    "\n",
    "\n",
    "    network.apply_template(username=my_username, password=my_password, server=my_server,\n",
    "                           uuid=cytoscape_visual_properties_template_id)\n",
    "    message = network.upload_to(my_server, my_username, my_password)\n",
    "\n",
    "print('starting...')\n",
    "process_hitpredict_network(load_plan)\n",
    "print('finished...')\n",
    "\n"
   ]
  },
  {
   "cell_type": "code",
   "execution_count": null,
   "metadata": {
    "collapsed": true
   },
   "outputs": [],
   "source": []
  }
 ],
 "metadata": {
  "anaconda-cloud": {},
  "kernelspec": {
   "display_name": "Python 3",
   "language": "python",
   "name": "python3"
  },
  "language_info": {
   "codemirror_mode": {
    "name": "ipython",
    "version": 3
   },
   "file_extension": ".py",
   "mimetype": "text/x-python",
   "name": "python",
   "nbconvert_exporter": "python",
   "pygments_lexer": "ipython3",
   "version": "3.6.2"
  }
 },
 "nbformat": 4,
 "nbformat_minor": 1
}
