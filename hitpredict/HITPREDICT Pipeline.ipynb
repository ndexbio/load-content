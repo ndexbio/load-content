{
 "cells": [
  {
   "cell_type": "markdown",
   "metadata": {},
   "source": [
    "# SIGNOR Pipeline"
   ]
  },
  {
   "cell_type": "markdown",
   "metadata": {},
   "source": [
    "This notebook creates a Network Set of SIGNOR pathway networks using the latest data downloaded via the SIGNOR REST service. SIGNOR is updated regularly and so it also demonstrates how to update the networks in the set."
   ]
  },
  {
   "cell_type": "markdown",
   "metadata": {},
   "source": [
    "## Imports Python Packages Needed in the Pipeline"
   ]
  },
  {
   "cell_type": "code",
   "execution_count": 1,
   "metadata": {
    "collapsed": false
   },
   "outputs": [],
   "source": [
    "import ndex2.client as nc\n",
    "import json\n",
    "import pandas as pd\n",
    "import sys\n",
    "import jsonschema\n",
    "import ndexutil.tsv.tsv2nicecx as t2n\n",
    "from tutorial_utils import load_tutorial_config"
   ]
  },
  {
   "cell_type": "markdown",
   "metadata": {},
   "source": [
    "### Set variables"
   ]
  },
  {
   "cell_type": "code",
   "execution_count": 2,
   "metadata": {
    "collapsed": false
   },
   "outputs": [],
   "source": [
    "#cytoscape_visual_properties_template_id = 'ece36fa0-1e5d-11e8-b939-0ac135e8bacf' # PUBLIC\n",
    "cytoscape_visual_properties_template_id = 'c7075eb1-231e-11e8-894b-525400c25d22' # DEV\n",
    "\n",
    "my_server, my_username, my_password = load_tutorial_config(\"main\")\n",
    "# alternatively, edit and uncomment these lines to set the connection parameters manually\n",
    "# my_server = \"public.ndexbio.org\"\n",
    "# my_username = None\n",
    "# my_password = None\n",
    "\n",
    "my_ndex=nc.Ndex2(my_server, my_username, my_password)"
   ]
  },
  {
   "cell_type": "markdown",
   "metadata": {},
   "source": [
    "### Set load plan"
   ]
  },
  {
   "cell_type": "code",
   "execution_count": 3,
   "metadata": {
    "collapsed": false
   },
   "outputs": [],
   "source": [
    "path_to_load_plan = 'hitpredict_load_plan.json'\n",
    "load_plan = None\n",
    "with open(path_to_load_plan, 'r') as lp:\n",
    "    load_plan = json.load(lp)"
   ]
  },
  {
   "cell_type": "markdown",
   "metadata": {},
   "source": [
    "### Process Hit Predict network"
   ]
  },
  {
   "cell_type": "code",
   "execution_count": 4,
   "metadata": {
    "collapsed": false
   },
   "outputs": [
    {
     "name": "stdout",
     "output_type": "stream",
     "text": [
      "starting...\n"
     ]
    },
    {
     "name": "stderr",
     "output_type": "stream",
     "text": [
      "/Users/aarongary/Development/Projects/ndex-example-development/vpy36/lib/python3.6/site-packages/ipykernel_launcher.py:5: DeprecationWarning: 'U' mode is deprecated\n",
      "  \"\"\"\n"
     ]
    },
    {
     "name": "stdout",
     "output_type": "stream",
     "text": [
      "[{'name': 'provenanceHistory', 'elementCount': 1, 'version': '1.0', 'consistencyGroup': 1, 'properties': []}, {'name': 'nodes', 'elementCount': 55, 'idCounter': 2052, 'version': '1.0', 'consistencyGroup': 1, 'properties': []}, {'name': 'edges', 'elementCount': 54, 'idCounter': 4563, 'version': '1.0', 'consistencyGroup': 1, 'properties': []}, {'name': 'networkAttributes', 'elementCount': 4, 'version': '1.0', 'consistencyGroup': 1, 'properties': []}, {'name': 'nodeAttributes', 'elementCount': 55, 'version': '1.0', 'consistencyGroup': 1, 'properties': []}, {'name': 'edgeAttributes', 'elementCount': 540, 'version': '1.0', 'consistencyGroup': 1, 'properties': []}, {'name': 'cartesianLayout', 'elementCount': 55, 'version': '1.0', 'consistencyGroup': 1, 'properties': []}, {'name': 'cyVisualProperties', 'elementCount': 3, 'version': '1.0', 'consistencyGroup': 1, 'properties': []}, {'name': '@context', 'elementCount': 1, 'version': '1.0', 'consistencyGroup': 2, 'properties': []}]\n",
      "finished...\n"
     ]
    }
   ],
   "source": [
    "def process_hitpredict_network(load_plan):\n",
    "    # TODO - add context (normalize?)\n",
    "    # @CONTEXT is set from the load plan\n",
    "\n",
    "    with open('HitPredit_in_KEGG.txt', 'rU') as tsvfile:\n",
    "        header = [h.strip() for h in tsvfile.readline().split('\\t')]\n",
    "\n",
    "        df = pd.read_csv(tsvfile, delimiter='\\t', na_filter=False, engine='python', names=header)\n",
    "\n",
    "    # upcase column names\n",
    "    rename = {}\n",
    "    for column_name in df.columns:\n",
    "        rename[column_name] = column_name.upper()\n",
    "\n",
    "    df = df.rename(columns=rename)\n",
    "\n",
    "    # IF THE NAME FIELD IS EMPTY - SUBSTITUTE UNIPROT FIELD\n",
    "    df['NAME1'].replace('', df['UNIPROT1'], inplace=True)\n",
    "    df['NAME2'].replace('', df['UNIPROT2'], inplace=True)\n",
    "\n",
    "    # ADD COLUMN TO DATAFRAME TO BE USED AS DEFAULT INTERACTION\n",
    "    df.loc[:, 'DEFAULT INTERACTION'] = pd.Series('interacts with', index=df.index)\n",
    "\n",
    "    network = t2n.convert_pandas_to_nice_cx_with_load_plan(df, load_plan)\n",
    "\n",
    "    for node_id, node in network.nodes.items():\n",
    "        # IF NODE NAME HAS DELIMITER (;) THEN SPLIT AND TAKE FIRST ELEMENT\n",
    "        if ';' in node.get_name():\n",
    "            node_name_temp = node.get_name().split(';')\n",
    "            node.set_node_name(node_name_temp[0])\n",
    "\n",
    "        # STRIP OFF EXTRA DATA IN THE ALIAS ATTRIBUTE\n",
    "        values = network.get_node_attribute(node, 'alias2')\n",
    "        if not isinstance(values, list):\n",
    "            values = [values]\n",
    "\n",
    "        replacement_values = []\n",
    "        for val in values:\n",
    "            if val is None:\n",
    "                break\n",
    "            sub_values = val.split('[')\n",
    "            replacement_values.append(sub_values[0])\n",
    "\n",
    "        if len(replacement_values) < 1:\n",
    "            network.remove_node_attribute(node, 'alias2')\n",
    "        else:\n",
    "            network_att = network.get_node_attribute_objects(node_id, 'alias2')\n",
    "            network_att.set_values(replacement_values)\n",
    "\n",
    "    network.set_network_attribute(\"organism\", \"Human, 9606, Homo sapiens\")\n",
    "    network.union_node_attributes('alias', 'alias2', 'alias')\n",
    "    network.set_name('Hit Predict draft 2.0')\n",
    "\n",
    "    network.apply_template(username=my_username, password=my_password, server=my_server,\n",
    "                           uuid=cytoscape_visual_properties_template_id)\n",
    "    message = network.upload_to(my_server, my_username, my_password)\n",
    "\n",
    "print('starting...')\n",
    "process_hitpredict_network(load_plan)\n",
    "print('finished...')\n",
    "\n"
   ]
  },
  {
   "cell_type": "code",
   "execution_count": null,
   "metadata": {
    "collapsed": true
   },
   "outputs": [],
   "source": []
  }
 ],
 "metadata": {
  "anaconda-cloud": {},
  "kernelspec": {
   "display_name": "vpy36",
   "language": "python",
   "name": "vpy36"
  },
  "language_info": {
   "codemirror_mode": {
    "name": "ipython",
    "version": 3
   },
   "file_extension": ".py",
   "mimetype": "text/x-python",
   "name": "python",
   "nbconvert_exporter": "python",
   "pygments_lexer": "ipython3",
   "version": "3.6.4"
  }
 },
 "nbformat": 4,
 "nbformat_minor": 1
}
